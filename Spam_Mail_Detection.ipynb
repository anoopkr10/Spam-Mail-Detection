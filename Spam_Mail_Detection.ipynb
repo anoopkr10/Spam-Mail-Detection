{
  "nbformat": 4,
  "nbformat_minor": 0,
  "metadata": {
    "colab": {
      "name": "Spam Mail Detection.ipynb",
      "provenance": [],
      "authorship_tag": "ABX9TyOjrys18t4lvH+0GYYK1jqa",
      "include_colab_link": true
    },
    "kernelspec": {
      "name": "python3",
      "display_name": "Python 3"
    }
  },
  "cells": [
    {
      "cell_type": "markdown",
      "metadata": {
        "id": "view-in-github",
        "colab_type": "text"
      },
      "source": [
        "<a href=\"https://colab.research.google.com/github/anoopkr10/Spam-Mail-Detection/blob/main/Spam_Mail_Detection.ipynb\" target=\"_parent\"><img src=\"https://colab.research.google.com/assets/colab-badge.svg\" alt=\"Open In Colab\"/></a>"
      ]
    },
    {
      "cell_type": "code",
      "metadata": {
        "id": "S9RZAmr7IeXr"
      },
      "source": [
        "#Import Libraries\n",
        "import numpy as np\n",
        "import pandas as pd\n",
        "from sklearn.model_selection import train_test_split\n",
        "from sklearn.feature_extraction.text import TfidfVectorizer\n",
        "from sklearn.svm import LinearSVC\n",
        "from sklearn.metrics import accuracy_score \n",
        "\n",
        "#Data Preprocessing\n",
        "# load the dataset to pandas Data Frame\n",
        "raw_mail_data = pd.read_csv('spamham.csv')\n",
        "# replace the null values with a null string\n",
        "mail_data = raw_mail_data.where((pd.notnull(raw_mail_data)), '')\n",
        "mail_data.shape\n",
        "mail_data.head() #sample data\n",
        "\n",
        "# label spam mail as 0; Non-spam mail (ham) mail as 1.\n",
        "mail_data.loc[mail_data['Category'] == 'spam', 'Category',] = 0\n",
        "mail_data.loc[mail_data['Category'] == 'ham', 'Category',] = 1\n",
        "\n",
        "# separate the data as text and label. X --> text; Y --> label\n",
        "X = mail_data['Message']\n",
        "Y = mail_data['Category']\n",
        "print(X)\n",
        "print('.............')\n",
        "print(Y)\n",
        "\n",
        "#Train Test Split\n",
        "# split the data as train data and test data\n",
        "X_train, X_test, Y_train, Y_test = train_test_split(X, Y, train_size=0.8, test_size=0.2, random_state=3)\n",
        "\n",
        "#Feature Extraction\n",
        "# transform the text data to feature vectors that can be used as input to the SVM model using TfidfVectorizer\n",
        "# convert the text to lower case letters\n",
        "feature_extraction = TfidfVectorizer(min_df=1, stop_words='english', lowercase='True')\n",
        "X_train_features = feature_extraction.fit_transform(X_train)\n",
        "X_test_features = feature_extraction.transform(X_test)\n",
        "\n",
        "#convert Y_train and Y_test values as integers\n",
        "Y_train = Y_train.astype('int')\n",
        "Y_test = Y_test.astype('int')\n",
        "\n",
        "# training the support vector machine model with training data\n",
        "model = LinearSVC()\n",
        "model.fit(X_train_features, Y_train) \n",
        "\n",
        "#Evaluation of the model\n",
        "# prediction on training data\n",
        "prediction_on_training_data = model.predict(X_train_features)\n",
        "accuracy_on_training_data = accuracy_score(Y_train, prediction_on_training_data)\n",
        "print('Accuracy on training data : ', accuracy_on_training_data)\n",
        "\n",
        "# prediction on test data\n",
        "prediction_on_test_data = model.predict(X_test_features)\n",
        "accuracy_on_test_data = accuracy_score(Y_test, prediction_on_test_data)\n",
        "print('Accuracy on test data : ', accuracy_on_test_data)\n",
        "\n",
        "#Prediction on new mail\n",
        "input_mail = [\"I've been searching for the right words to thank you for this breather. I promise i wont take your help for granted and will fulfil my promise. You have been wonderful and a blessing at all times.\"]\n",
        "# convert text to feature vectors\n",
        "input_mail_features = feature_extraction.transform(input_mail)\n",
        "\n",
        "#making prediction\n",
        "prediction = model.predict(input_mail_features)\n",
        "print(prediction)\n",
        "\n",
        "if (prediction[0]==1):\n",
        "  print('HAM MAIL')\n",
        "else:\n",
        "  print('SPAM MAIL')"
      ],
      "execution_count": 8,
      "outputs": []
    }
  ]
}